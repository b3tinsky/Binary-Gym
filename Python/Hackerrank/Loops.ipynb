{
 "cells": [
  {
   "cell_type": "markdown",
   "metadata": {},
   "source": [
    "### Task\n",
    "The provided code stub reads and integer, __n__, from STDIN. For all non-negative integers __i < n__, print __i^2__.\n",
    "\n",
    "### Example\n",
    "n = 3\n",
    "\n",
    "The list of non-negative integers that are less than  __n = 3__ is [0,1,2]. \n",
    "Print the square of each number on a separate line.\n",
    "0\n",
    "1\n",
    "4\n",
    "\n",
    "### Input Format\n",
    "The first and only line contains the integer, __n__.\n",
    "\n",
    "### Constraints\n",
    "__1 <= n <= 20__\n",
    "\n",
    "### Output Format\n",
    "Print __n__ lines, one corresponding to each __i__.\n",
    "\n",
    "### Sample Input 0\n",
    "5\n",
    "\n",
    "### Sample Output 0\n",
    "0\n",
    "1\n",
    "4\n",
    "9\n",
    "16"
   ]
  },
  {
   "cell_type": "code",
   "execution_count": null,
   "metadata": {},
   "outputs": [],
   "source": [
    "if __name__ == '__main__':\n",
    "    n = int(input())\n",
    "    for i in range(n):\n",
    "        print(i**2)"
   ]
  }
 ],
 "metadata": {
  "language_info": {
   "name": "python"
  },
  "orig_nbformat": 4
 },
 "nbformat": 4,
 "nbformat_minor": 2
}
