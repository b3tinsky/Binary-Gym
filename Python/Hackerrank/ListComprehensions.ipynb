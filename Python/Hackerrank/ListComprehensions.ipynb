{
 "cells": [
  {
   "cell_type": "markdown",
   "metadata": {},
   "source": [
    "Let's learn about list comprehensions! You are given three integers __x,y__ and __z__ representing the dimensions of a cuboid along with an integer __n__. Print a list of all possible coordinates given by __(i, j, k)__ on a 3D grid where the sum of __i + j + k__ is not equal to __n__. Here, __0 <= i <= x; 0 <= j <= y; 0 <= k <= z__. Please use list comprehensions rather than multiple loops, as a learning exercise.\n",
    "\n",
    "### Example\n",
    "x = 1\n",
    "y = 1\n",
    "z = 2\n",
    "n = 3\n",
    "\n",
    "All permutations of [i, j, k] are:\n",
    "[[0,0,0], [0,0,1], [0,0,2], [0,1,0], [0,1,1], [0,1,2], [1,0,0], [1,0,1]... ]\n",
    "\n",
    "Print an array of the elements that do not sum to __n = 3__.\n",
    "[[0,0,0], [0,0,1], [0,0,2], [0,1,0], [0,1,1], [1,0,0], [1,0,1], [1,1,0]... ]\n",
    "\n",
    "### Input Format\n",
    "Four integers __x,y,z__ and __n__, each on a separate line.\n",
    "\n",
    "### Constraints\n",
    "Print the list in lexicographic increasing order.\n",
    "\n",
    "### Sample Input 0\n",
    "1\n",
    "1\n",
    "1\n",
    "2\n",
    "\n",
    "### Sample Output 0\n",
    "[[0, 0, 0], [0, 0, 1], [0, 1, 0], [1, 0, 0], [1, 1, 1]]\n",
    "\n",
    "### Explanation 0\n",
    "Each variable __x, y__ and __z__ will have values of __0__ or __1__. All permutations of lists in the form .\n",
    "[i,j,k] = \n",
    "Remove all arrays that sum to __n = 2__ to leave only the valid permutations.\n",
    "[[0,0,0], [0,0,1], [0,0,2], [0,1,0], [0,1,1], [1,0,0], [1,0,1], [1,1,0]... ]\n",
    "\n",
    "### Sample Input 1\n",
    "2\n",
    "2\n",
    "2\n",
    "2\n",
    "\n",
    "### Sample Output 1\n",
    "[[0, 0, 0], [0, 0, 1], [0, 1, 0], [0, 1, 2], [0, 2, 1], [0, 2, 2], [1, 0, 0], [1, 0, 2], [1, 1, 1], [1, 1, 2], [1, 2, 0], [1, 2, 1], [1, 2, 2], [2, 0, 1], [2, 0, 2], [2, 1, 0], [2, 1, 1], [2, 1, 2], [2, 2, 0], [2, 2, 1], [2, 2, 2]]"
   ]
  },
  {
   "cell_type": "code",
   "execution_count": 17,
   "metadata": {},
   "outputs": [
    {
     "name": "stdout",
     "output_type": "stream",
     "text": [
      "[[0, 0, 0], [0, 0, 1], [0, 0, 2], [0, 1, 0], [0, 1, 1], [1, 0, 0], [1, 0, 1], [1, 1, 0], [1, 1, 2]]\n"
     ]
    }
   ],
   "source": [
    "x = int(input())\n",
    "y = int(input())\n",
    "z = int(input())\n",
    "n = int(input())\n",
    "output = []\n",
    "output = [[i, j, k] for i in range(x+1) for j in range(y+1) for k in range(z+1) if i+j+k != n]\n",
    "print(output)"
   ]
  }
 ],
 "metadata": {
  "interpreter": {
   "hash": "916dbcbb3f70747c44a77c7bcd40155683ae19c65e1c03b4aa3499c5328201f1"
  },
  "kernelspec": {
   "display_name": "Python 3.8.10 64-bit",
   "language": "python",
   "name": "python3"
  },
  "language_info": {
   "codemirror_mode": {
    "name": "ipython",
    "version": 3
   },
   "file_extension": ".py",
   "mimetype": "text/x-python",
   "name": "python",
   "nbconvert_exporter": "python",
   "pygments_lexer": "ipython3",
   "version": "3.8.10"
  },
  "orig_nbformat": 4
 },
 "nbformat": 4,
 "nbformat_minor": 2
}
