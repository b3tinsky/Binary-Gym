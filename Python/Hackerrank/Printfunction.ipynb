{
 "cells": [
  {
   "cell_type": "markdown",
   "metadata": {},
   "source": [
    "The included code stub will read an integer , __n__ , from STDIN.\n",
    "Without using any string methods, try to print the following:\n",
    "\n",
    "__123...n__\n",
    "\n",
    "Note that \"\" represents the consecutive values in between.\n",
    "\n",
    "### Example\n",
    "__n = 5__\n",
    "Print the string __12345__.\n",
    "\n",
    "### Input Format\n",
    "The first line contains an integer __n__.\n",
    "\n",
    "### Constraints\n",
    "1 <= n <= 150\n",
    "\n",
    "### Output Format\n",
    "Print the list of integers from __1__ through __50__ as a string, without spaces.\n",
    "\n",
    "### Sample Input 0\n",
    "3\n",
    "\n",
    "### Sample Output 0\n",
    "123"
   ]
  },
  {
   "cell_type": "code",
   "execution_count": null,
   "metadata": {},
   "outputs": [],
   "source": [
    "if __name__ == '__main__':\n",
    "    n = int(input())\n",
    "    s = \"\"\n",
    "    \n",
    "    for i in range(n):\n",
    "        s += str(i+1)\n",
    "    print(s)"
   ]
  }
 ],
 "metadata": {
  "language_info": {
   "name": "python"
  },
  "orig_nbformat": 4
 },
 "nbformat": 4,
 "nbformat_minor": 2
}
