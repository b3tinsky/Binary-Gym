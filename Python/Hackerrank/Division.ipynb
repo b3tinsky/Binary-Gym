{
 "cells": [
  {
   "cell_type": "markdown",
   "metadata": {},
   "source": [
    "### Task\n",
    "The provided code stub reads two integers, __a__ and __b__, from STDIN.\n",
    "Add logic to print two lines. The first line should contain the result of integer division,  __a__//__b__ . The second line should contain the result of float division,  __a__/__b__ .\n",
    "No rounding or formatting is necessary.\n",
    "\n",
    "### Example\n",
    "a = 3\n",
    "b = 5\n",
    "\n",
    "* The result of the integer division .\n",
    "* The result of the float division is .\n",
    "\n",
    "Print:\n",
    "0\n",
    "0.6\n",
    "\n",
    "### Input Format\n",
    "The first line contains the first integer, __a__.\n",
    "The second line contains the second integer, __b__.\n",
    "\n",
    "### Output Format\n",
    "Print the two lines as described above.\n",
    "\n",
    "### Sample Input 0\n",
    "4\n",
    "3\n",
    "\n",
    "### Sample Output 0\n",
    "1\n",
    "1.33333333333"
   ]
  },
  {
   "cell_type": "code",
   "execution_count": null,
   "metadata": {},
   "outputs": [],
   "source": [
    "if __name__ == '__main__':\n",
    "    a = int(input())\n",
    "    b = int(input())\n",
    "    print(a // b)\n",
    "    print(a / b)"
   ]
  }
 ],
 "metadata": {
  "language_info": {
   "name": "python"
  },
  "orig_nbformat": 4
 },
 "nbformat": 4,
 "nbformat_minor": 2
}
