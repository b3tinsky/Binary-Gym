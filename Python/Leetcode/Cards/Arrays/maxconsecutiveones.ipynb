{
 "cells": [
  {
   "cell_type": "markdown",
   "metadata": {},
   "source": [
    "# MAX CONSECUTIVE ONES\n",
    "\n",
    "Given a binary array nums, return the maximum number of consecutive 1's in the array.\n",
    "\n",
    "### Example 1:\n",
    "__Input__: nums = [1,1,0,1,1,1]\n",
    "__Output__: 3\n",
    "__Explanation__: The first two digits or the last three digits are consecutive 1s. The maximum number of consecutive 1s is 3.\n",
    "\n",
    "### Example 2:\n",
    "__Input__: nums = [1,0,1,1,0,1]\n",
    "__Output__: 2\n",
    "\n",
    "### Constraints:\n",
    "1 <= nums.length <= 10^5\n",
    "nums[i] is either 0 or 1."
   ]
  },
  {
   "cell_type": "code",
   "execution_count": null,
   "metadata": {},
   "outputs": [],
   "source": [
    "class Solution:\n",
    "    def findMaxConsecutiveOnes(self, nums: List[int]) -> int:\n",
    "        maxOnes = 0\n",
    "        currOnes = 0\n",
    "        for i in nums:\n",
    "            if(i == 1):\n",
    "                currOnes += 1\n",
    "            else:\n",
    "                if(currOnes > maxOnes):\n",
    "                    maxOnes = currOnes\n",
    "                currOnes = 0\n",
    "                \n",
    "            if(currOnes > maxOnes):\n",
    "                maxOnes = currOnes \n",
    "            \n",
    "        return maxOnes"
   ]
  }
 ],
 "metadata": {
  "interpreter": {
   "hash": "916dbcbb3f70747c44a77c7bcd40155683ae19c65e1c03b4aa3499c5328201f1"
  },
  "kernelspec": {
   "display_name": "Python 3.8.10 64-bit",
   "language": "python",
   "name": "python3"
  },
  "language_info": {
   "codemirror_mode": {
    "name": "ipython",
    "version": 3
   },
   "file_extension": ".py",
   "mimetype": "text/x-python",
   "name": "python",
   "nbconvert_exporter": "python",
   "pygments_lexer": "ipython3",
   "version": "3.8.10"
  },
  "orig_nbformat": 4
 },
 "nbformat": 4,
 "nbformat_minor": 2
}
