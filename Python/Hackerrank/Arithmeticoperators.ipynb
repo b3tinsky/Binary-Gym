{
 "cells": [
  {
   "cell_type": "markdown",
   "metadata": {},
   "source": [
    "### Task\n",
    "The provided code stub reads two integers from STDIN, __a__ and __b__. Add code to print three lines where:\n",
    "\n",
    "1. The first line contains the sum of the two numbers.\n",
    "2. The second line contains the difference of the two numbers (first - second).\n",
    "3. The third line contains the product of the two numbers.\n",
    "\n",
    "### Example\n",
    "a = 3\n",
    "b = 5\n",
    "*Print the following:*\n",
    "8\n",
    "-2\n",
    "15\n",
    "\n",
    "### Input Format\n",
    "The first line contains the first integer, __a__.\n",
    "The second line contains the second integer, __b__.\n",
    "\n",
    "### Constraints\n",
    "1 <= a <= 10^10\n",
    "1 <= b <= 10^10\n",
    "\n",
    "### Output Format\n",
    "Print the three lines as explained above.\n",
    "\n",
    "### Sample Input 0\n",
    "3\n",
    "2\n",
    "\n",
    "### Sample Output 0\n",
    "5\n",
    "1\n",
    "6\n",
    "\n",
    "### Explanation 0\n",
    "3 + 2 ==> 5\n",
    "3 - 2 ==> 1\n",
    "3 * 2 ==> 6"
   ]
  },
  {
   "cell_type": "code",
   "execution_count": null,
   "metadata": {},
   "outputs": [],
   "source": [
    "if __name__ == '__main__':\n",
    "    a = int(input())\n",
    "    b = int(input())\n",
    "    print(a + b)\n",
    "    print(a - b)\n",
    "    print(a * b)"
   ]
  }
 ],
 "metadata": {
  "language_info": {
   "name": "python"
  },
  "orig_nbformat": 4
 },
 "nbformat": 4,
 "nbformat_minor": 2
}
