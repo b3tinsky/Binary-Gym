{
 "cells": [
  {
   "cell_type": "markdown",
   "metadata": {},
   "source": [
    "# Squares of a Sorted Array\n",
    "Given an integer array nums sorted in non-decreasing order, return an array of the squares of each number sorted in non-decreasing order.\n",
    "\n",
    "### Example 1:\n",
    "__Input__: nums = [-4,-1,0,3,10]\n",
    "__Output__: [0,1,9,16,100]\n",
    "__Explanation__: After squaring, the array becomes [16,1,0,9,100].\n",
    "After sorting, it becomes [0,1,9,16,100].\n",
    "\n",
    "### Example 2: \n",
    "__Input__: nums = [-7,-3,2,3,11]\n",
    "__Output__: [4,9,9,49,121]\n",
    "\n",
    "### Constraints\n",
    "1 <= nums.length <= 104\n",
    "-104 <= nums[i] <= 104\n",
    "nums is sorted in non-decreasing order.\n",
    "\n",
    "### Follow up: \n",
    "Squaring each element and sorting the new array is very trivial, could you find an O(n) solution using a different approach?\n"
   ]
  },
  {
   "cell_type": "code",
   "execution_count": 27,
   "metadata": {},
   "outputs": [
    {
     "name": "stdout",
     "output_type": "stream",
     "text": [
      "Positives:  [0, 9, 100]\n",
      "Negatives:  [1, 16]\n",
      "Answer:  [0, 1, 9, 16, 100]\n"
     ]
    }
   ],
   "source": [
    "class Solution:\n",
    "    def sortedSquares(self, nums: List[int]) -> List[int]:\n",
    "        def joinArrays(negatives, positives):\n",
    "            while(negatives or positives):\n",
    "                if(not positives):\n",
    "                    answer.append(negatives[0])\n",
    "                    negatives.pop(0)\n",
    "                elif(not negatives):\n",
    "                    answer.append(positives[0])\n",
    "                    positives.pop(0)\n",
    "                elif(negatives[0] <= positives[0]):\n",
    "                    answer.append(negatives[0])\n",
    "                    negatives.pop(0)\n",
    "                elif(negatives[0] >= positives[0]):\n",
    "                    answer.append(positives[0])\n",
    "                    positives.pop(0)\n",
    "        \n",
    "        answer = []\n",
    "        positives = []\n",
    "        negatives = []\n",
    "\n",
    "        for num in nums:\n",
    "            sqr = num ** 2\n",
    "            if(not positives):\n",
    "                if(num < 0):\n",
    "                    negatives.insert(0, sqr)\n",
    "                else:\n",
    "                    positives.append(sqr)\n",
    "            else:\n",
    "                if(num < 0):\n",
    "                    negatives.insert(0, sqr)\n",
    "                else:\n",
    "                    positives.append(sqr)\n",
    "                    \n",
    "        joinArrays(negatives, positives)\n",
    "        return answer"
   ]
  }
 ],
 "metadata": {
  "interpreter": {
   "hash": "916dbcbb3f70747c44a77c7bcd40155683ae19c65e1c03b4aa3499c5328201f1"
  },
  "kernelspec": {
   "display_name": "Python 3.8.10 64-bit",
   "language": "python",
   "name": "python3"
  },
  "language_info": {
   "codemirror_mode": {
    "name": "ipython",
    "version": 3
   },
   "file_extension": ".py",
   "mimetype": "text/x-python",
   "name": "python",
   "nbconvert_exporter": "python",
   "pygments_lexer": "ipython3",
   "version": "3.8.10"
  },
  "orig_nbformat": 4
 },
 "nbformat": 4,
 "nbformat_minor": 2
}
