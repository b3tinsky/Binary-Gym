{
 "cells": [
  {
   "cell_type": "markdown",
   "metadata": {},
   "source": [
    "# Find Numbers with Even Number of Digits\n",
    "\n",
    "### Example 1:\n",
    "__Input__: nums = [12,345,2,6,7896]\n",
    "__Output__: 2\n",
    "__Explanation__: \n",
    "12 contains 2 digits (even number of digits). \n",
    "345 contains 3 digits (odd number of digits). \n",
    "2 contains 1 digit (odd number of digits). \n",
    "6 contains 1 digit (odd number of digits). \n",
    "7896 contains 4 digits (even number of digits). \n",
    "Therefore only 12 and 7896 contain an even number of digits.\n",
    "\n",
    "### Example 2:\n",
    "__Input__: nums = [555,901,482,1771]\n",
    "__Output__: 1 \n",
    "__Explanation__: \n",
    "Only 1771 contains an even number of digits.\n",
    "\n",
    "### Constraints:\n",
    "1 <= nums.length <= 500\n",
    "1 <= nums[i] <= 105"
   ]
  },
  {
   "cell_type": "code",
   "execution_count": null,
   "metadata": {},
   "outputs": [],
   "source": [
    "def howManyZeroes(num):\n",
    "    qty = 0\n",
    "    while(num >= 1):\n",
    "        qty += 1\n",
    "        num /= 10\n",
    "    return qty\n",
    "\n",
    "\n",
    "class Solution:\n",
    "    def findNumbers(self, nums: List[int]) -> int:\n",
    "        evenNumOfDigits = 0\n",
    "        for i in nums:\n",
    "            if(howManyZeroes(i) % 2 == 0):\n",
    "                evenNumOfDigits += 1\n",
    "        return evenNumOfDigits"
   ]
  }
 ],
 "metadata": {
  "interpreter": {
   "hash": "916dbcbb3f70747c44a77c7bcd40155683ae19c65e1c03b4aa3499c5328201f1"
  },
  "kernelspec": {
   "display_name": "Python 3.8.10 64-bit",
   "language": "python",
   "name": "python3"
  },
  "language_info": {
   "codemirror_mode": {
    "name": "ipython",
    "version": 3
   },
   "file_extension": ".py",
   "mimetype": "text/x-python",
   "name": "python",
   "nbconvert_exporter": "python",
   "pygments_lexer": "ipython3",
   "version": "3.8.10"
  },
  "orig_nbformat": 4
 },
 "nbformat": 4,
 "nbformat_minor": 2
}
