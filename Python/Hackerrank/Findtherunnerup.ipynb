{
 "cells": [
  {
   "cell_type": "markdown",
   "metadata": {},
   "source": [
    "# Find the Runner-Up Score!\n",
    "\n",
    "Given the participants' score sheet for your University Sports Day, you are required to find the runner-up score. You are given  scores. Store them in a list and find the score of the runner-up.\n",
    "\n",
    "### Input Format\n",
    "The first line contains __n__. The second line contains an array __A[]__ of __n__ integers each separated by a space.\n",
    "\n",
    "### Constraints\n",
    "__2 <= n <= 10__\n",
    "__-100 <= A[i] <= 100__\n",
    "\n",
    "### Output Format\n",
    "Print the runner-up score\n",
    "\n",
    "### Sample Input 0\n",
    "5\n",
    "2 3 6 6 5\n",
    "\n",
    "### Sample Output 0\n",
    "5\n",
    "\n",
    "### Explanation 0\n",
    "Given list is __[2,3,6,6,5]__. The maximum score is __6__, second maximum is __5__. Hence, we print __5__ as the runner-up score."
   ]
  },
  {
   "cell_type": "code",
   "execution_count": 32,
   "metadata": {},
   "outputs": [
    {
     "name": "stdout",
     "output_type": "stream",
     "text": [
      "X:  8\n",
      "Y:  7\n"
     ]
    }
   ],
   "source": [
    "if __name__ == '__main__':\n",
    "    n = int(input())\n",
    "    arr = map(int, input().split())\n",
    "    arr = list(arr)\n",
    "    x = arr[0]\n",
    "    y = -999999\n",
    "    for i in arr:\n",
    "        if(i > x):\n",
    "            y = x\n",
    "            x = i\n",
    "        elif(i == x):\n",
    "            x = i\n",
    "        elif(i > y):\n",
    "            y = i\n",
    "\n",
    "    print(y)"
   ]
  }
 ],
 "metadata": {
  "interpreter": {
   "hash": "916dbcbb3f70747c44a77c7bcd40155683ae19c65e1c03b4aa3499c5328201f1"
  },
  "kernelspec": {
   "display_name": "Python 3.8.10 64-bit",
   "language": "python",
   "name": "python3"
  },
  "language_info": {
   "codemirror_mode": {
    "name": "ipython",
    "version": 3
   },
   "file_extension": ".py",
   "mimetype": "text/x-python",
   "name": "python",
   "nbconvert_exporter": "python",
   "pygments_lexer": "ipython3",
   "version": "3.8.10"
  },
  "orig_nbformat": 4
 },
 "nbformat": 4,
 "nbformat_minor": 2
}
