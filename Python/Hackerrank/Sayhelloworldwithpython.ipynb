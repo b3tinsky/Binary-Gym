{
 "cells": [
  {
   "cell_type": "markdown",
   "metadata": {},
   "source": [
    "*Here is a sample line of code that can be executed in Python:*\n",
    "\n",
    "print(\"Hello, World!\")\n",
    "\n",
    "*You can just as easily store a string as a variable and then print it to stdout:*\n",
    "\n",
    "my_string = \"Hello, World!\"\n",
    "print(my_string)\n",
    "\n",
    "*The above code will print Hello, World! on your screen. Try it yourself in the editor below!*\n",
    "\n",
    "### Input Format\n",
    "You do not need to read any input in this challenge.\n",
    "\n",
    "### Output Format\n",
    "Print Hello, World! to stdout.\n",
    "\n",
    "### Sample Output 0\n",
    "Hello, World!"
   ]
  },
  {
   "cell_type": "code",
   "execution_count": null,
   "metadata": {},
   "outputs": [],
   "source": [
    "if __name__ == '__main__':\n",
    "    print(\"Hello, World!\")"
   ]
  }
 ],
 "metadata": {
  "language_info": {
   "name": "python"
  },
  "orig_nbformat": 4
 },
 "nbformat": 4,
 "nbformat_minor": 2
}
