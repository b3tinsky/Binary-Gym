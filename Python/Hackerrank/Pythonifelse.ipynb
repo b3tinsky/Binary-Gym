{
 "cells": [
  {
   "cell_type": "markdown",
   "metadata": {},
   "source": [
    "### Task\n",
    "Given an integer, __n__ , perform the following conditional actions:\n",
    "\n",
    "If __n__ is odd, print Weird\n",
    "If __n__ is even and in the inclusive range of __2__ to __5__, print Not Weird\n",
    "If __n__ is even and in the inclusive range of __6__ to __20__, print Weird\n",
    "If __n__ is even and greater than __20__, print Not Weird\n",
    "\n",
    "### Input Format\n",
    "A single line containing a positive integer, __n__.\n",
    "\n",
    "### Constraints\n",
    "__1 <= n <= 100__\n",
    "\n",
    "### Output Format\n",
    "Print Weird if the number is weird. Otherwise, print Not Weird.\n",
    "\n",
    "### Sample Input 0\n",
    "3\n",
    "\n",
    "### Sample Output 0\n",
    "Weird\n",
    "\n",
    "### Explanation 0\n",
    "__n = 3__\n",
    "__n__ is odd and odd numbers are weird, so print Weird.\n",
    "\n",
    "### Sample Input 1\n",
    "24\n",
    "\n",
    "### Sample Output 1\n",
    "Not Weird\n",
    "\n",
    "### Explanation 1\n",
    "__n = 24__\n",
    "\n",
    "__n > 20__ and __n__ is even, so it is not weird."
   ]
  },
  {
   "cell_type": "code",
   "execution_count": null,
   "metadata": {},
   "outputs": [],
   "source": [
    "#!/bin/python3\n",
    "\n",
    "import math\n",
    "import os\n",
    "import random\n",
    "import re\n",
    "import sys\n",
    "\n",
    "if __name__ == '__main__':\n",
    "    n = int(input().strip())\n",
    "    if (n % 2 != 0):\n",
    "        print('Weird')\n",
    "    elif (n % 2 == 0) and (n >= 2 and n <= 5): \n",
    "        print('Not Weird')\n",
    "    elif (n % 2 == 0) and (n >= 6 and n <= 20): \n",
    "        print('Weird')\n",
    "    elif (n % 2 == 0) and (n > 20): \n",
    "        print('Not Weird')"
   ]
  }
 ],
 "metadata": {
  "language_info": {
   "name": "python"
  },
  "orig_nbformat": 4
 },
 "nbformat": 4,
 "nbformat_minor": 2
}
